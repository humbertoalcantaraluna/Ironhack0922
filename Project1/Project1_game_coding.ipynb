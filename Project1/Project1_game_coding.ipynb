{
 "cells": [
  {
   "cell_type": "raw",
   "id": "872606fd-1fb1-44cd-937f-5beabc3456c1",
   "metadata": {},
   "source": [
    "Piedra, Papel, Tijeras, Lagarto o Spock"
   ]
  },
  {
   "cell_type": "code",
   "execution_count": null,
   "id": "049978ab-895c-4f47-802b-bd03fd2f8729",
   "metadata": {},
   "outputs": [],
   "source": []
  }
 ],
 "metadata": {
  "kernelspec": {
   "display_name": "Python 3 (ipykernel)",
   "language": "python",
   "name": "python3"
  },
  "language_info": {
   "codemirror_mode": {
    "name": "ipython",
    "version": 3
   },
   "file_extension": ".py",
   "mimetype": "text/x-python",
   "name": "python",
   "nbconvert_exporter": "python",
   "pygments_lexer": "ipython3",
   "version": "3.9.12"
  }
 },
 "nbformat": 4,
 "nbformat_minor": 5
}
